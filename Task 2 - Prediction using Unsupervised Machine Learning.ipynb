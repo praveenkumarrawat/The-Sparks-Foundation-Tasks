{
 "cells": [
  {
   "cell_type": "markdown",
   "id": "d872ff05",
   "metadata": {},
   "source": [
    "# Task 2 : Prediction using Unsupervised Machine Learning\n",
    "\n",
    "## Author : Praveen Kumar Rawat\n",
    "## GRIP @ The Sparks Foundation\n",
    "### GRIPJULY2024\n"
   ]
  },
  {
   "cell_type": "code",
   "execution_count": null,
   "id": "24a5a09b",
   "metadata": {},
   "outputs": [],
   "source": [
    "import numpy as np\n",
    "import pandas as pd\n",
    "import matplotlib.pyplot as plt\n",
    "%matplotlib inline"
   ]
  },
  {
   "cell_type": "code",
   "execution_count": null,
   "id": "da9dd3c1",
   "metadata": {},
   "outputs": [],
   "source": [
    "data = pd.read_csv('Iris.csv')\n",
    "data.head()"
   ]
  },
  {
   "cell_type": "markdown",
   "id": "c212a8cb",
   "metadata": {},
   "source": [
    "## Exploring the Data"
   ]
  },
  {
   "cell_type": "code",
   "execution_count": null,
   "id": "fdd8a902",
   "metadata": {},
   "outputs": [],
   "source": [
    "data.shape"
   ]
  },
  {
   "cell_type": "code",
   "execution_count": null,
   "id": "19eb127a",
   "metadata": {},
   "outputs": [],
   "source": [
    "data.columns"
   ]
  },
  {
   "cell_type": "code",
   "execution_count": null,
   "id": "26a92379",
   "metadata": {},
   "outputs": [],
   "source": [
    "data.info()"
   ]
  },
  {
   "cell_type": "code",
   "execution_count": null,
   "id": "73b9668a",
   "metadata": {},
   "outputs": [],
   "source": [
    "data.describe()"
   ]
  },
  {
   "cell_type": "code",
   "execution_count": null,
   "id": "8582b8db",
   "metadata": {},
   "outputs": [],
   "source": [
    "data.Species.unique()"
   ]
  },
  {
   "cell_type": "markdown",
   "id": "6375eec3",
   "metadata": {},
   "source": [
    "## Finding the optimum number of clusters"
   ]
  },
  {
   "cell_type": "code",
   "execution_count": null,
   "id": "1904913f",
   "metadata": {},
   "outputs": [],
   "source": [
    "X = data.iloc[:, [1,2,3,4]].values"
   ]
  },
  {
   "cell_type": "code",
   "execution_count": null,
   "id": "074738aa",
   "metadata": {},
   "outputs": [],
   "source": [
    "from sklearn.cluster import KMeans"
   ]
  },
  {
   "cell_type": "code",
   "execution_count": null,
   "id": "d390db2e",
   "metadata": {},
   "outputs": [],
   "source": [
    "def elbowMethod(num_clusters, inertias):\n",
    "    plt.plot(num_clusters, inertias)\n",
    "    plt.title(\"ELBOW METHOD\")\n",
    "    plt.xlabel(\"Number of Clusters\")\n",
    "    plt.ylabel(\"Inertias\")\n",
    "    plt.show()"
   ]
  },
  {
   "cell_type": "code",
   "execution_count": null,
   "id": "b4a7b003",
   "metadata": {},
   "outputs": [],
   "source": [
    "inertias = []\n",
    "clusters = range(1,11)\n",
    "\n",
    "for i in clusters:\n",
    "    kmeans = KMeans(n_clusters = i, init='k-means++',  max_iter = 300, n_init = 10, random_state = 0)\n",
    "    kmeans.fit(X)\n",
    "    inertias.append(kmeans.inertia_)\n",
    "elbowMethod(clusters, inertias)"
   ]
  },
  {
   "cell_type": "markdown",
   "id": "10275381",
   "metadata": {},
   "source": [
    "The optimum number of clusters is where the Elbow occurs.\n",
    "OBSERVATION: From the above plot we can observe that the optimum number of clusters can be chosen as \"3\"."
   ]
  },
  {
   "cell_type": "code",
   "execution_count": null,
   "id": "7c813842",
   "metadata": {},
   "outputs": [],
   "source": [
    "kmeans = KMeans(n_clusters = 3, init='k-means++',  max_iter = 300, n_init = 10, random_state = 0)\n",
    "\n",
    "y_kmeans = kmeans.fit_predict(X)"
   ]
  },
  {
   "cell_type": "code",
   "execution_count": null,
   "id": "5d50089d",
   "metadata": {},
   "outputs": [],
   "source": [
    "kmeans.cluster_centers_"
   ]
  },
  {
   "cell_type": "code",
   "execution_count": null,
   "id": "13e85b38",
   "metadata": {},
   "outputs": [],
   "source": [
    "plt.figure(figsize = (10,8))\n",
    "\n",
    "# Visualising the clusters - On the first two columns\n",
    "plt.scatter(X[y_kmeans == 0, 0], X[y_kmeans == 0, 1], \n",
    "            s = 100, c = 'red', label = 'Iris-setosa')\n",
    "plt.scatter(X[y_kmeans == 1, 0], X[y_kmeans == 1, 1], \n",
    "            s = 100, c = 'blue', label = 'Iris-versicolour')\n",
    "plt.scatter(X[y_kmeans == 2, 0], X[y_kmeans == 2, 1],\n",
    "            s = 100, c = 'green', label = 'Iris-virginica')\n",
    "\n",
    "# Plotting the centroids of the clusters\n",
    "plt.scatter(kmeans.cluster_centers_[:, 0], kmeans.cluster_centers_[:,1], \n",
    "            s = 100, c = 'yellow', label = 'Centroids')\n",
    "\n",
    "plt.legend()\n",
    "\n",
    "plt.show()"
   ]
  },
  {
   "cell_type": "markdown",
   "id": "7f8c0724",
   "metadata": {},
   "source": [
    "## Conclusion:\n",
    "### Successfully carried out prediction using Unsupervised Machine Learning and evaluated the model's clustering accuracy."
   ]
  },
  {
   "cell_type": "code",
   "execution_count": null,
   "id": "a556fbe9",
   "metadata": {},
   "outputs": [],
   "source": []
  },
  {
   "cell_type": "code",
   "execution_count": null,
   "id": "0bd1ab8e",
   "metadata": {},
   "outputs": [],
   "source": []
  },
  {
   "cell_type": "code",
   "execution_count": null,
   "id": "e9396195",
   "metadata": {},
   "outputs": [],
   "source": []
  }
 ],
 "metadata": {
  "kernelspec": {
   "display_name": "Python 3 (ipykernel)",
   "language": "python",
   "name": "python3"
  },
  "language_info": {
   "codemirror_mode": {
    "name": "ipython",
    "version": 3
   },
   "file_extension": ".py",
   "mimetype": "text/x-python",
   "name": "python",
   "nbconvert_exporter": "python",
   "pygments_lexer": "ipython3",
   "version": "3.11.4"
  }
 },
 "nbformat": 4,
 "nbformat_minor": 5
}
